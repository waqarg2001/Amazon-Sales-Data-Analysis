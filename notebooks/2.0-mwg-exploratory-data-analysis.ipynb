{
 "cells": [
  {
   "cell_type": "markdown",
   "id": "50589e9e",
   "metadata": {},
   "source": [
    "### Exploratory Data Analysis on Processed Data\n",
    "\n",
    "- Complex plots will be plotted using Tableau.\n",
    "- 0 represents null value every where."
   ]
  },
  {
   "cell_type": "code",
   "execution_count": 1,
   "id": "d35d161a",
   "metadata": {},
   "outputs": [],
   "source": [
    "import numpy as np\n",
    "import pandas as pd\n",
    "\n",
    "import matplotlib.pyplot as plt\n",
    "plt.rcParams['figure.figsize']=10,5\n",
    "\n",
    "import seaborn as sns\n",
    "sns.set_theme()\n",
    "\n",
    "import warnings\n",
    "warnings.filterwarnings('ignore')\n",
    "\n"
   ]
  },
  {
   "cell_type": "code",
   "execution_count": 2,
   "id": "ec49eb5a",
   "metadata": {},
   "outputs": [
    {
     "name": "stdout",
     "output_type": "stream",
     "text": [
      "['Sales_Data', 'Region', 'Division', 'Customers_Address', 'Customers']\n"
     ]
    }
   ],
   "source": [
    "file_path='../data/processed/processed_data.xlsx'\n",
    "sheet_names=pd.ExcelFile(file_path).sheet_names\n",
    "print(sheet_names)"
   ]
  },
  {
   "cell_type": "code",
   "execution_count": 8,
   "id": "c82d6202",
   "metadata": {},
   "outputs": [
    {
     "data": {
      "text/html": [
       "<div>\n",
       "<style scoped>\n",
       "    .dataframe tbody tr th:only-of-type {\n",
       "        vertical-align: middle;\n",
       "    }\n",
       "\n",
       "    .dataframe tbody tr th {\n",
       "        vertical-align: top;\n",
       "    }\n",
       "\n",
       "    .dataframe thead th {\n",
       "        text-align: right;\n",
       "    }\n",
       "</style>\n",
       "<table border=\"1\" class=\"dataframe\">\n",
       "  <thead>\n",
       "    <tr style=\"text-align: right;\">\n",
       "      <th></th>\n",
       "      <th>Region Code</th>\n",
       "      <th>Region Name</th>\n",
       "    </tr>\n",
       "  </thead>\n",
       "  <tbody>\n",
       "    <tr>\n",
       "      <th>0</th>\n",
       "      <td>0</td>\n",
       "      <td>Canada</td>\n",
       "    </tr>\n",
       "    <tr>\n",
       "      <th>1</th>\n",
       "      <td>1</td>\n",
       "      <td>Western</td>\n",
       "    </tr>\n",
       "    <tr>\n",
       "      <th>2</th>\n",
       "      <td>2</td>\n",
       "      <td>Southern</td>\n",
       "    </tr>\n",
       "    <tr>\n",
       "      <th>3</th>\n",
       "      <td>3</td>\n",
       "      <td>Northeast</td>\n",
       "    </tr>\n",
       "    <tr>\n",
       "      <th>4</th>\n",
       "      <td>4</td>\n",
       "      <td>Central</td>\n",
       "    </tr>\n",
       "    <tr>\n",
       "      <th>5</th>\n",
       "      <td>5</td>\n",
       "      <td>International</td>\n",
       "    </tr>\n",
       "  </tbody>\n",
       "</table>\n",
       "</div>"
      ],
      "text/plain": [
       "   Region Code    Region Name\n",
       "0            0         Canada\n",
       "1            1        Western\n",
       "2            2       Southern\n",
       "3            3      Northeast\n",
       "4            4        Central\n",
       "5            5  International"
      ]
     },
     "execution_count": 8,
     "metadata": {},
     "output_type": "execute_result"
    }
   ],
   "source": [
    "region_df=pd.read_excel(file_path,'Region')\n",
    "region_df.head(10)  "
   ]
  },
  {
   "cell_type": "code",
   "execution_count": 23,
   "id": "9e8dc6b3",
   "metadata": {},
   "outputs": [
    {
     "data": {
      "text/plain": [
       "{0: 'Canada',\n",
       " 1: 'Western',\n",
       " 2: 'Southern',\n",
       " 3: 'Northeast',\n",
       " 4: 'Central',\n",
       " 5: 'International'}"
      ]
     },
     "execution_count": 23,
     "metadata": {},
     "output_type": "execute_result"
    }
   ],
   "source": [
    "region_data_dic=region_df.to_dict()\n",
    "region_map=region_data_dic['Region Name']\n",
    "region_map"
   ]
  },
  {
   "cell_type": "code",
   "execution_count": 27,
   "id": "62a781b6",
   "metadata": {},
   "outputs": [
    {
     "data": {
      "text/html": [
       "<div>\n",
       "<style scoped>\n",
       "    .dataframe tbody tr th:only-of-type {\n",
       "        vertical-align: middle;\n",
       "    }\n",
       "\n",
       "    .dataframe tbody tr th {\n",
       "        vertical-align: top;\n",
       "    }\n",
       "\n",
       "    .dataframe thead th {\n",
       "        text-align: right;\n",
       "    }\n",
       "</style>\n",
       "<table border=\"1\" class=\"dataframe\">\n",
       "  <thead>\n",
       "    <tr style=\"text-align: right;\">\n",
       "      <th></th>\n",
       "      <th>Division Name</th>\n",
       "    </tr>\n",
       "    <tr>\n",
       "      <th>Division</th>\n",
       "      <th></th>\n",
       "    </tr>\n",
       "  </thead>\n",
       "  <tbody>\n",
       "    <tr>\n",
       "      <th>1</th>\n",
       "      <td>International</td>\n",
       "    </tr>\n",
       "    <tr>\n",
       "      <th>2</th>\n",
       "      <td>Domestic</td>\n",
       "    </tr>\n",
       "  </tbody>\n",
       "</table>\n",
       "</div>"
      ],
      "text/plain": [
       "          Division Name\n",
       "Division               \n",
       "1         International\n",
       "2              Domestic"
      ]
     },
     "execution_count": 27,
     "metadata": {},
     "output_type": "execute_result"
    }
   ],
   "source": [
    "division_df=pd.read_excel(file_path,'Division',index_col=0)\n",
    "division_df.head()"
   ]
  },
  {
   "cell_type": "code",
   "execution_count": 32,
   "id": "1441d771",
   "metadata": {},
   "outputs": [
    {
     "data": {
      "text/plain": [
       "{1: 'International', 2: 'Domestic'}"
      ]
     },
     "execution_count": 32,
     "metadata": {},
     "output_type": "execute_result"
    }
   ],
   "source": [
    "division_map=division_df.to_dict()\n",
    "division_map=division_map['Division Name']\n",
    "division_map"
   ]
  },
  {
   "cell_type": "code",
   "execution_count": 91,
   "id": "af0484f8",
   "metadata": {},
   "outputs": [
    {
     "data": {
      "text/html": [
       "<div>\n",
       "<style scoped>\n",
       "    .dataframe tbody tr th:only-of-type {\n",
       "        vertical-align: middle;\n",
       "    }\n",
       "\n",
       "    .dataframe tbody tr th {\n",
       "        vertical-align: top;\n",
       "    }\n",
       "\n",
       "    .dataframe thead th {\n",
       "        text-align: right;\n",
       "    }\n",
       "</style>\n",
       "<table border=\"1\" class=\"dataframe\">\n",
       "  <thead>\n",
       "    <tr style=\"text-align: right;\">\n",
       "      <th></th>\n",
       "      <th>Address Number</th>\n",
       "      <th>Business Family</th>\n",
       "      <th>Business Unit</th>\n",
       "      <th>Customer</th>\n",
       "      <th>Customer Number</th>\n",
       "      <th>Customer Type</th>\n",
       "      <th>Division</th>\n",
       "      <th>Line of Business</th>\n",
       "      <th>Phone</th>\n",
       "      <th>Region Code</th>\n",
       "      <th>Regional Sales Mgr</th>\n",
       "      <th>Search Type</th>\n",
       "    </tr>\n",
       "  </thead>\n",
       "  <tbody>\n",
       "    <tr>\n",
       "      <th>0</th>\n",
       "      <td>10000000</td>\n",
       "      <td>R3</td>\n",
       "      <td>1</td>\n",
       "      <td>City Supermarket</td>\n",
       "      <td>10000000</td>\n",
       "      <td>G2</td>\n",
       "      <td>2</td>\n",
       "      <td>0</td>\n",
       "      <td>816-455-8733</td>\n",
       "      <td>4</td>\n",
       "      <td>S16</td>\n",
       "      <td>C</td>\n",
       "    </tr>\n",
       "    <tr>\n",
       "      <th>1</th>\n",
       "      <td>10000453</td>\n",
       "      <td>R3</td>\n",
       "      <td>1</td>\n",
       "      <td>A Supermarket</td>\n",
       "      <td>10000453</td>\n",
       "      <td>G1</td>\n",
       "      <td>1</td>\n",
       "      <td>0</td>\n",
       "      <td>816-455-8733</td>\n",
       "      <td>5</td>\n",
       "      <td>S19</td>\n",
       "      <td>C</td>\n",
       "    </tr>\n",
       "    <tr>\n",
       "      <th>2</th>\n",
       "      <td>10000455</td>\n",
       "      <td>R3</td>\n",
       "      <td>1</td>\n",
       "      <td>Caribian Supermarket</td>\n",
       "      <td>10000455</td>\n",
       "      <td>G2</td>\n",
       "      <td>2</td>\n",
       "      <td>0</td>\n",
       "      <td>816-455-8733</td>\n",
       "      <td>1</td>\n",
       "      <td>S16</td>\n",
       "      <td>C</td>\n",
       "    </tr>\n",
       "    <tr>\n",
       "      <th>3</th>\n",
       "      <td>10000456</td>\n",
       "      <td>R1</td>\n",
       "      <td>1</td>\n",
       "      <td>A&amp;B Shop</td>\n",
       "      <td>10000456</td>\n",
       "      <td>G3</td>\n",
       "      <td>1</td>\n",
       "      <td>0</td>\n",
       "      <td>816-455-8733</td>\n",
       "      <td>0</td>\n",
       "      <td>S2</td>\n",
       "      <td>C</td>\n",
       "    </tr>\n",
       "    <tr>\n",
       "      <th>4</th>\n",
       "      <td>10000457</td>\n",
       "      <td>O2</td>\n",
       "      <td>1</td>\n",
       "      <td>A&amp;G Shop</td>\n",
       "      <td>10000457</td>\n",
       "      <td>G1</td>\n",
       "      <td>1</td>\n",
       "      <td>0</td>\n",
       "      <td>816-455-8733</td>\n",
       "      <td>5</td>\n",
       "      <td>S1</td>\n",
       "      <td>C</td>\n",
       "    </tr>\n",
       "  </tbody>\n",
       "</table>\n",
       "</div>"
      ],
      "text/plain": [
       "   Address Number Business Family  Business Unit              Customer  \\\n",
       "0        10000000              R3              1      City Supermarket   \n",
       "1        10000453              R3              1         A Supermarket   \n",
       "2        10000455              R3              1  Caribian Supermarket   \n",
       "3        10000456              R1              1              A&B Shop   \n",
       "4        10000457              O2              1              A&G Shop   \n",
       "\n",
       "   Customer Number Customer Type  Division Line of Business         Phone  \\\n",
       "0         10000000            G2         2                0  816-455-8733   \n",
       "1         10000453            G1         1                0  816-455-8733   \n",
       "2         10000455            G2         2                0  816-455-8733   \n",
       "3         10000456            G3         1                0  816-455-8733   \n",
       "4         10000457            G1         1                0  816-455-8733   \n",
       "\n",
       "   Region Code Regional Sales Mgr Search Type  \n",
       "0            4                S16           C  \n",
       "1            5                S19           C  \n",
       "2            1                S16           C  \n",
       "3            0                 S2           C  \n",
       "4            5                 S1           C  "
      ]
     },
     "execution_count": 91,
     "metadata": {},
     "output_type": "execute_result"
    }
   ],
   "source": [
    "customers_df=pd.read_excel(file_path,'Customers')\n",
    "customers_df.head()  ######### 0 means null lkho upar"
   ]
  },
  {
   "cell_type": "code",
   "execution_count": 92,
   "id": "37c79f0d",
   "metadata": {},
   "outputs": [
    {
     "name": "stdout",
     "output_type": "stream",
     "text": [
      "<class 'pandas.core.frame.DataFrame'>\n",
      "RangeIndex: 684 entries, 0 to 683\n",
      "Data columns (total 12 columns):\n",
      " #   Column              Non-Null Count  Dtype \n",
      "---  ------              --------------  ----- \n",
      " 0   Address Number      684 non-null    int64 \n",
      " 1   Business Family     684 non-null    object\n",
      " 2   Business Unit       684 non-null    int64 \n",
      " 3   Customer            684 non-null    object\n",
      " 4   Customer Number     684 non-null    int64 \n",
      " 5   Customer Type       684 non-null    object\n",
      " 6   Division            684 non-null    int64 \n",
      " 7   Line of Business    684 non-null    object\n",
      " 8   Phone               684 non-null    object\n",
      " 9   Region Code         684 non-null    int64 \n",
      " 10  Regional Sales Mgr  684 non-null    object\n",
      " 11  Search Type         684 non-null    object\n",
      "dtypes: int64(5), object(7)\n",
      "memory usage: 64.2+ KB\n"
     ]
    }
   ],
   "source": [
    "customers_df.info()"
   ]
  },
  {
   "cell_type": "code",
   "execution_count": 93,
   "id": "124f2014",
   "metadata": {},
   "outputs": [
    {
     "data": {
      "text/html": [
       "<div>\n",
       "<style scoped>\n",
       "    .dataframe tbody tr th:only-of-type {\n",
       "        vertical-align: middle;\n",
       "    }\n",
       "\n",
       "    .dataframe tbody tr th {\n",
       "        vertical-align: top;\n",
       "    }\n",
       "\n",
       "    .dataframe thead th {\n",
       "        text-align: right;\n",
       "    }\n",
       "</style>\n",
       "<table border=\"1\" class=\"dataframe\">\n",
       "  <thead>\n",
       "    <tr style=\"text-align: right;\">\n",
       "      <th></th>\n",
       "      <th>count</th>\n",
       "      <th>mean</th>\n",
       "      <th>std</th>\n",
       "      <th>min</th>\n",
       "      <th>25%</th>\n",
       "      <th>50%</th>\n",
       "      <th>75%</th>\n",
       "      <th>max</th>\n",
       "    </tr>\n",
       "  </thead>\n",
       "  <tbody>\n",
       "    <tr>\n",
       "      <th>Address Number</th>\n",
       "      <td>684.0</td>\n",
       "      <td>1.001662e+07</td>\n",
       "      <td>7898.470369</td>\n",
       "      <td>10000000.0</td>\n",
       "      <td>10010910.5</td>\n",
       "      <td>10019172.0</td>\n",
       "      <td>10023509.25</td>\n",
       "      <td>10027629.0</td>\n",
       "    </tr>\n",
       "    <tr>\n",
       "      <th>Business Unit</th>\n",
       "      <td>684.0</td>\n",
       "      <td>1.000000e+00</td>\n",
       "      <td>0.000000</td>\n",
       "      <td>1.0</td>\n",
       "      <td>1.0</td>\n",
       "      <td>1.0</td>\n",
       "      <td>1.00</td>\n",
       "      <td>1.0</td>\n",
       "    </tr>\n",
       "    <tr>\n",
       "      <th>Customer Number</th>\n",
       "      <td>684.0</td>\n",
       "      <td>1.001662e+07</td>\n",
       "      <td>7898.470369</td>\n",
       "      <td>10000000.0</td>\n",
       "      <td>10010910.5</td>\n",
       "      <td>10019172.0</td>\n",
       "      <td>10023509.25</td>\n",
       "      <td>10027629.0</td>\n",
       "    </tr>\n",
       "    <tr>\n",
       "      <th>Division</th>\n",
       "      <td>684.0</td>\n",
       "      <td>1.508772e+00</td>\n",
       "      <td>0.500289</td>\n",
       "      <td>1.0</td>\n",
       "      <td>1.0</td>\n",
       "      <td>2.0</td>\n",
       "      <td>2.00</td>\n",
       "      <td>2.0</td>\n",
       "    </tr>\n",
       "    <tr>\n",
       "      <th>Region Code</th>\n",
       "      <td>684.0</td>\n",
       "      <td>3.476608e+00</td>\n",
       "      <td>1.688227</td>\n",
       "      <td>0.0</td>\n",
       "      <td>2.0</td>\n",
       "      <td>4.0</td>\n",
       "      <td>5.00</td>\n",
       "      <td>5.0</td>\n",
       "    </tr>\n",
       "  </tbody>\n",
       "</table>\n",
       "</div>"
      ],
      "text/plain": [
       "                 count          mean          std         min         25%  \\\n",
       "Address Number   684.0  1.001662e+07  7898.470369  10000000.0  10010910.5   \n",
       "Business Unit    684.0  1.000000e+00     0.000000         1.0         1.0   \n",
       "Customer Number  684.0  1.001662e+07  7898.470369  10000000.0  10010910.5   \n",
       "Division         684.0  1.508772e+00     0.500289         1.0         1.0   \n",
       "Region Code      684.0  3.476608e+00     1.688227         0.0         2.0   \n",
       "\n",
       "                        50%          75%         max  \n",
       "Address Number   10019172.0  10023509.25  10027629.0  \n",
       "Business Unit           1.0         1.00         1.0  \n",
       "Customer Number  10019172.0  10023509.25  10027629.0  \n",
       "Division                2.0         2.00         2.0  \n",
       "Region Code             4.0         5.00         5.0  "
      ]
     },
     "execution_count": 93,
     "metadata": {},
     "output_type": "execute_result"
    }
   ],
   "source": [
    "customers_df.describe().transpose()"
   ]
  },
  {
   "cell_type": "code",
   "execution_count": 94,
   "id": "4fc9fefe",
   "metadata": {},
   "outputs": [],
   "source": [
    "customers_df['Division']=customers_df['Division'].map(division_map)"
   ]
  },
  {
   "cell_type": "code",
   "execution_count": 95,
   "id": "13a4cfb7",
   "metadata": {},
   "outputs": [],
   "source": [
    "customers_df['Region Code']=customers_df['Region Code'].map(region_map)"
   ]
  },
  {
   "cell_type": "code",
   "execution_count": 96,
   "id": "c934563b",
   "metadata": {
    "scrolled": true
   },
   "outputs": [
    {
     "data": {
      "text/html": [
       "<div>\n",
       "<style scoped>\n",
       "    .dataframe tbody tr th:only-of-type {\n",
       "        vertical-align: middle;\n",
       "    }\n",
       "\n",
       "    .dataframe tbody tr th {\n",
       "        vertical-align: top;\n",
       "    }\n",
       "\n",
       "    .dataframe thead th {\n",
       "        text-align: right;\n",
       "    }\n",
       "</style>\n",
       "<table border=\"1\" class=\"dataframe\">\n",
       "  <thead>\n",
       "    <tr style=\"text-align: right;\">\n",
       "      <th></th>\n",
       "      <th>Address Number</th>\n",
       "      <th>Business Family</th>\n",
       "      <th>Business Unit</th>\n",
       "      <th>Customer</th>\n",
       "      <th>Customer Number</th>\n",
       "      <th>Customer Type</th>\n",
       "      <th>Division</th>\n",
       "      <th>Line of Business</th>\n",
       "      <th>Phone</th>\n",
       "      <th>Region Code</th>\n",
       "      <th>Regional Sales Mgr</th>\n",
       "      <th>Search Type</th>\n",
       "    </tr>\n",
       "  </thead>\n",
       "  <tbody>\n",
       "    <tr>\n",
       "      <th>0</th>\n",
       "      <td>10000000</td>\n",
       "      <td>R3</td>\n",
       "      <td>1</td>\n",
       "      <td>City Supermarket</td>\n",
       "      <td>10000000</td>\n",
       "      <td>G2</td>\n",
       "      <td>Domestic</td>\n",
       "      <td>0</td>\n",
       "      <td>816-455-8733</td>\n",
       "      <td>Central</td>\n",
       "      <td>S16</td>\n",
       "      <td>C</td>\n",
       "    </tr>\n",
       "    <tr>\n",
       "      <th>1</th>\n",
       "      <td>10000453</td>\n",
       "      <td>R3</td>\n",
       "      <td>1</td>\n",
       "      <td>A Supermarket</td>\n",
       "      <td>10000453</td>\n",
       "      <td>G1</td>\n",
       "      <td>International</td>\n",
       "      <td>0</td>\n",
       "      <td>816-455-8733</td>\n",
       "      <td>International</td>\n",
       "      <td>S19</td>\n",
       "      <td>C</td>\n",
       "    </tr>\n",
       "    <tr>\n",
       "      <th>2</th>\n",
       "      <td>10000455</td>\n",
       "      <td>R3</td>\n",
       "      <td>1</td>\n",
       "      <td>Caribian Supermarket</td>\n",
       "      <td>10000455</td>\n",
       "      <td>G2</td>\n",
       "      <td>Domestic</td>\n",
       "      <td>0</td>\n",
       "      <td>816-455-8733</td>\n",
       "      <td>Western</td>\n",
       "      <td>S16</td>\n",
       "      <td>C</td>\n",
       "    </tr>\n",
       "    <tr>\n",
       "      <th>3</th>\n",
       "      <td>10000456</td>\n",
       "      <td>R1</td>\n",
       "      <td>1</td>\n",
       "      <td>A&amp;B Shop</td>\n",
       "      <td>10000456</td>\n",
       "      <td>G3</td>\n",
       "      <td>International</td>\n",
       "      <td>0</td>\n",
       "      <td>816-455-8733</td>\n",
       "      <td>Canada</td>\n",
       "      <td>S2</td>\n",
       "      <td>C</td>\n",
       "    </tr>\n",
       "    <tr>\n",
       "      <th>4</th>\n",
       "      <td>10000457</td>\n",
       "      <td>O2</td>\n",
       "      <td>1</td>\n",
       "      <td>A&amp;G Shop</td>\n",
       "      <td>10000457</td>\n",
       "      <td>G1</td>\n",
       "      <td>International</td>\n",
       "      <td>0</td>\n",
       "      <td>816-455-8733</td>\n",
       "      <td>International</td>\n",
       "      <td>S1</td>\n",
       "      <td>C</td>\n",
       "    </tr>\n",
       "  </tbody>\n",
       "</table>\n",
       "</div>"
      ],
      "text/plain": [
       "   Address Number Business Family  Business Unit              Customer  \\\n",
       "0        10000000              R3              1      City Supermarket   \n",
       "1        10000453              R3              1         A Supermarket   \n",
       "2        10000455              R3              1  Caribian Supermarket   \n",
       "3        10000456              R1              1              A&B Shop   \n",
       "4        10000457              O2              1              A&G Shop   \n",
       "\n",
       "   Customer Number Customer Type       Division Line of Business  \\\n",
       "0         10000000            G2       Domestic                0   \n",
       "1         10000453            G1  International                0   \n",
       "2         10000455            G2       Domestic                0   \n",
       "3         10000456            G3  International                0   \n",
       "4         10000457            G1  International                0   \n",
       "\n",
       "          Phone    Region Code Regional Sales Mgr Search Type  \n",
       "0  816-455-8733        Central                S16           C  \n",
       "1  816-455-8733  International                S19           C  \n",
       "2  816-455-8733        Western                S16           C  \n",
       "3  816-455-8733         Canada                 S2           C  \n",
       "4  816-455-8733  International                 S1           C  "
      ]
     },
     "execution_count": 96,
     "metadata": {},
     "output_type": "execute_result"
    }
   ],
   "source": [
    "customers_df.head()"
   ]
  },
  {
   "cell_type": "code",
   "execution_count": 97,
   "id": "995e75a9",
   "metadata": {},
   "outputs": [
    {
     "data": {
      "text/html": [
       "<div>\n",
       "<style scoped>\n",
       "    .dataframe tbody tr th:only-of-type {\n",
       "        vertical-align: middle;\n",
       "    }\n",
       "\n",
       "    .dataframe tbody tr th {\n",
       "        vertical-align: top;\n",
       "    }\n",
       "\n",
       "    .dataframe thead th {\n",
       "        text-align: right;\n",
       "    }\n",
       "</style>\n",
       "<table border=\"1\" class=\"dataframe\">\n",
       "  <thead>\n",
       "    <tr style=\"text-align: right;\">\n",
       "      <th></th>\n",
       "      <th>Address Number</th>\n",
       "      <th>Business Family</th>\n",
       "      <th>Business Unit</th>\n",
       "      <th>Customer</th>\n",
       "      <th>Customer Number</th>\n",
       "      <th>Customer Type</th>\n",
       "      <th>Division</th>\n",
       "      <th>Line of Business</th>\n",
       "      <th>Phone</th>\n",
       "      <th>Region Code</th>\n",
       "      <th>Regional Sales Mgr</th>\n",
       "      <th>Search Type</th>\n",
       "      <th>Shop Type</th>\n",
       "    </tr>\n",
       "  </thead>\n",
       "  <tbody>\n",
       "    <tr>\n",
       "      <th>0</th>\n",
       "      <td>10000000</td>\n",
       "      <td>R3</td>\n",
       "      <td>1</td>\n",
       "      <td>City Supermarket</td>\n",
       "      <td>10000000</td>\n",
       "      <td>G2</td>\n",
       "      <td>Domestic</td>\n",
       "      <td>0</td>\n",
       "      <td>816-455-8733</td>\n",
       "      <td>Central</td>\n",
       "      <td>S16</td>\n",
       "      <td>C</td>\n",
       "      <td>Supermarket</td>\n",
       "    </tr>\n",
       "    <tr>\n",
       "      <th>1</th>\n",
       "      <td>10000453</td>\n",
       "      <td>R3</td>\n",
       "      <td>1</td>\n",
       "      <td>A Supermarket</td>\n",
       "      <td>10000453</td>\n",
       "      <td>G1</td>\n",
       "      <td>International</td>\n",
       "      <td>0</td>\n",
       "      <td>816-455-8733</td>\n",
       "      <td>International</td>\n",
       "      <td>S19</td>\n",
       "      <td>C</td>\n",
       "      <td>Supermarket</td>\n",
       "    </tr>\n",
       "    <tr>\n",
       "      <th>2</th>\n",
       "      <td>10000455</td>\n",
       "      <td>R3</td>\n",
       "      <td>1</td>\n",
       "      <td>Caribian Supermarket</td>\n",
       "      <td>10000455</td>\n",
       "      <td>G2</td>\n",
       "      <td>Domestic</td>\n",
       "      <td>0</td>\n",
       "      <td>816-455-8733</td>\n",
       "      <td>Western</td>\n",
       "      <td>S16</td>\n",
       "      <td>C</td>\n",
       "      <td>Supermarket</td>\n",
       "    </tr>\n",
       "    <tr>\n",
       "      <th>3</th>\n",
       "      <td>10000456</td>\n",
       "      <td>R1</td>\n",
       "      <td>1</td>\n",
       "      <td>A&amp;B Shop</td>\n",
       "      <td>10000456</td>\n",
       "      <td>G3</td>\n",
       "      <td>International</td>\n",
       "      <td>0</td>\n",
       "      <td>816-455-8733</td>\n",
       "      <td>Canada</td>\n",
       "      <td>S2</td>\n",
       "      <td>C</td>\n",
       "      <td>Shop</td>\n",
       "    </tr>\n",
       "    <tr>\n",
       "      <th>4</th>\n",
       "      <td>10000457</td>\n",
       "      <td>O2</td>\n",
       "      <td>1</td>\n",
       "      <td>A&amp;G Shop</td>\n",
       "      <td>10000457</td>\n",
       "      <td>G1</td>\n",
       "      <td>International</td>\n",
       "      <td>0</td>\n",
       "      <td>816-455-8733</td>\n",
       "      <td>International</td>\n",
       "      <td>S1</td>\n",
       "      <td>C</td>\n",
       "      <td>Shop</td>\n",
       "    </tr>\n",
       "  </tbody>\n",
       "</table>\n",
       "</div>"
      ],
      "text/plain": [
       "   Address Number Business Family  Business Unit              Customer  \\\n",
       "0        10000000              R3              1      City Supermarket   \n",
       "1        10000453              R3              1         A Supermarket   \n",
       "2        10000455              R3              1  Caribian Supermarket   \n",
       "3        10000456              R1              1              A&B Shop   \n",
       "4        10000457              O2              1              A&G Shop   \n",
       "\n",
       "   Customer Number Customer Type       Division Line of Business  \\\n",
       "0         10000000            G2       Domestic                0   \n",
       "1         10000453            G1  International                0   \n",
       "2         10000455            G2       Domestic                0   \n",
       "3         10000456            G3  International                0   \n",
       "4         10000457            G1  International                0   \n",
       "\n",
       "          Phone    Region Code Regional Sales Mgr Search Type    Shop Type  \n",
       "0  816-455-8733        Central                S16           C  Supermarket  \n",
       "1  816-455-8733  International                S19           C  Supermarket  \n",
       "2  816-455-8733        Western                S16           C  Supermarket  \n",
       "3  816-455-8733         Canada                 S2           C         Shop  \n",
       "4  816-455-8733  International                 S1           C         Shop  "
      ]
     },
     "execution_count": 97,
     "metadata": {},
     "output_type": "execute_result"
    }
   ],
   "source": [
    "customers_df['Shop Type']=customers_df['Customer'].str.split(' ',expand=True)[1]\n",
    "customers_df.head()"
   ]
  },
  {
   "cell_type": "code",
   "execution_count": 213,
   "id": "450b0f2a",
   "metadata": {},
   "outputs": [
    {
     "data": {
      "text/plain": [
       "11"
      ]
     },
     "execution_count": 213,
     "metadata": {},
     "output_type": "execute_result"
    }
   ],
   "source": [
    "customers_df['Shop Type'].isnull().sum()"
   ]
  },
  {
   "cell_type": "code",
   "execution_count": 100,
   "id": "c79f3016",
   "metadata": {},
   "outputs": [
    {
     "data": {
      "text/plain": [
       "<AxesSubplot:xlabel='count', ylabel='Shop Type'>"
      ]
     },
     "execution_count": 100,
     "metadata": {},
     "output_type": "execute_result"
    },
    {
     "data": {
      "image/png": "[encoded data removed]",
      "text/plain": [
       "<Figure size 720x360 with 1 Axes>"
      ]
     },
     "metadata": {},
     "output_type": "display_data"
    }
   ],
   "source": [
    "sns.countplot(data=customers_df,y=customers_df['Shop Type'],order=customers_df['Shop Type'].value_counts().iloc[:10].index)"
   ]
  },
  {
   "cell_type": "code",
   "execution_count": 46,
   "id": "939acad6",
   "metadata": {},
   "outputs": [
    {
     "data": {
      "text/plain": [
       "<AxesSubplot:xlabel='Customer Type', ylabel='count'>"
      ]
     },
     "execution_count": 46,
     "metadata": {},
     "output_type": "execute_result"
    },
    {
     "data": {
      "image/png": "[encoded data removed]",
      "text/plain": [
       "<Figure size 720x360 with 1 Axes>"
      ]
     },
     "metadata": {},
     "output_type": "display_data"
    }
   ],
   "source": [
    "sns.countplot(data=customers_df,x='Customer Type',hue='Division')"
   ]
  },
  {
   "cell_type": "code",
   "execution_count": 52,
   "id": "30d548c7",
   "metadata": {},
   "outputs": [
    {
     "data": {
      "text/plain": [
       "<AxesSubplot:xlabel='Division', ylabel='count'>"
      ]
     },
     "execution_count": 52,
     "metadata": {},
     "output_type": "execute_result"
    },
    {
     "data": {
      "image/png": "[encoded data removed]",
      "text/plain": [
       "<Figure size 720x360 with 1 Axes>"
      ]
     },
     "metadata": {},
     "output_type": "display_data"
    }
   ],
   "source": [
    "sns.countplot(data=customers_df,x='Division')"
   ]
  },
  {
   "cell_type": "code",
   "execution_count": 82,
   "id": "45159690",
   "metadata": {},
   "outputs": [
    {
     "data": {
      "text/plain": [
       "<AxesSubplot:xlabel='Region Code', ylabel='count'>"
      ]
     },
     "execution_count": 82,
     "metadata": {},
     "output_type": "execute_result"
    },
    {
     "data": {
      "image/png": "[encoded data removed]",
      "text/plain": [
       "<Figure size 720x360 with 1 Axes>"
      ]
     },
     "metadata": {},
     "output_type": "display_data"
    }
   ],
   "source": [
    "sns.countplot(data=customers_df,x='Region Code',order=customers_df['Region Code'].value_counts().index)"
   ]
  },
  {
   "cell_type": "code",
   "execution_count": 65,
   "id": "b9ab0f0c",
   "metadata": {},
   "outputs": [
    {
     "data": {
      "text/plain": [
       "<AxesSubplot:xlabel='Regional Sales Mgr', ylabel='count'>"
      ]
     },
     "execution_count": 65,
     "metadata": {},
     "output_type": "execute_result"
    },
    {
     "data": {
      "image/png": "[encoded data removed]",
      "text/plain": [
       "<Figure size 720x360 with 1 Axes>"
      ]
     },
     "metadata": {},
     "output_type": "display_data"
    }
   ],
   "source": [
    "sns.countplot(data=customers_df,x='Regional Sales Mgr',order=customers_df['Regional Sales Mgr'].value_counts().index)"
   ]
  },
  {
   "cell_type": "code",
   "execution_count": 103,
   "id": "aadfb7f7",
   "metadata": {},
   "outputs": [
    {
     "data": {
      "text/html": [
       "<div>\n",
       "<style scoped>\n",
       "    .dataframe tbody tr th:only-of-type {\n",
       "        vertical-align: middle;\n",
       "    }\n",
       "\n",
       "    .dataframe tbody tr th {\n",
       "        vertical-align: top;\n",
       "    }\n",
       "\n",
       "    .dataframe thead th {\n",
       "        text-align: right;\n",
       "    }\n",
       "</style>\n",
       "<table border=\"1\" class=\"dataframe\">\n",
       "  <thead>\n",
       "    <tr style=\"text-align: right;\">\n",
       "      <th></th>\n",
       "      <th>Address Number</th>\n",
       "      <th>City</th>\n",
       "      <th>Country</th>\n",
       "      <th>Customer Address 1</th>\n",
       "      <th>Customer Address 2</th>\n",
       "      <th>Customer Address 3</th>\n",
       "      <th>Customer Address 4</th>\n",
       "      <th>State</th>\n",
       "      <th>Zip Code</th>\n",
       "      <th>Full Address</th>\n",
       "    </tr>\n",
       "  </thead>\n",
       "  <tbody>\n",
       "    <tr>\n",
       "      <th>0</th>\n",
       "      <td>10000000</td>\n",
       "      <td>Akron</td>\n",
       "      <td>US</td>\n",
       "      <td>PO Box 6258</td>\n",
       "      <td>0</td>\n",
       "      <td>0</td>\n",
       "      <td>0</td>\n",
       "      <td>OH</td>\n",
       "      <td>44312</td>\n",
       "      <td>PO Box 6258    44312 Akron OH US</td>\n",
       "    </tr>\n",
       "    <tr>\n",
       "      <th>1</th>\n",
       "      <td>10000453</td>\n",
       "      <td>0</td>\n",
       "      <td>UK</td>\n",
       "      <td>0</td>\n",
       "      <td>0</td>\n",
       "      <td>0</td>\n",
       "      <td>0</td>\n",
       "      <td>0</td>\n",
       "      <td>0</td>\n",
       "      <td>UK</td>\n",
       "    </tr>\n",
       "    <tr>\n",
       "      <th>2</th>\n",
       "      <td>10000455</td>\n",
       "      <td>Huntington Beach</td>\n",
       "      <td>US</td>\n",
       "      <td>7392 Count Circle</td>\n",
       "      <td>0</td>\n",
       "      <td>0</td>\n",
       "      <td>0</td>\n",
       "      <td>CA</td>\n",
       "      <td>92647</td>\n",
       "      <td>7392 Count Circle    92647 Huntington Beach CA US</td>\n",
       "    </tr>\n",
       "    <tr>\n",
       "      <th>3</th>\n",
       "      <td>10000456</td>\n",
       "      <td>Edmonton</td>\n",
       "      <td>CA</td>\n",
       "      <td>8151 Wagner Road</td>\n",
       "      <td>0</td>\n",
       "      <td>0</td>\n",
       "      <td>0</td>\n",
       "      <td>AB</td>\n",
       "      <td>T6E 4N6</td>\n",
       "      <td>8151 Wagner Road    T6E 4N6 Edmonton AB CA</td>\n",
       "    </tr>\n",
       "    <tr>\n",
       "      <th>4</th>\n",
       "      <td>10000458</td>\n",
       "      <td>Saginaw</td>\n",
       "      <td>US</td>\n",
       "      <td>PO Box 840</td>\n",
       "      <td>0</td>\n",
       "      <td>0</td>\n",
       "      <td>0</td>\n",
       "      <td>MI</td>\n",
       "      <td>48606</td>\n",
       "      <td>PO Box 840    48606 Saginaw MI US</td>\n",
       "    </tr>\n",
       "  </tbody>\n",
       "</table>\n",
       "</div>"
      ],
      "text/plain": [
       "   Address Number              City Country Customer Address 1  \\\n",
       "0        10000000             Akron      US        PO Box 6258   \n",
       "1        10000453                 0      UK                  0   \n",
       "2        10000455  Huntington Beach      US  7392 Count Circle   \n",
       "3        10000456          Edmonton      CA   8151 Wagner Road   \n",
       "4        10000458           Saginaw      US         PO Box 840   \n",
       "\n",
       "  Customer Address 2 Customer Address 3 Customer Address 4 State Zip Code  \\\n",
       "0                  0                  0                  0    OH    44312   \n",
       "1                  0                  0                  0     0        0   \n",
       "2                  0                  0                  0    CA    92647   \n",
       "3                  0                  0                  0    AB  T6E 4N6   \n",
       "4                  0                  0                  0    MI    48606   \n",
       "\n",
       "                                        Full Address  \n",
       "0                   PO Box 6258    44312 Akron OH US  \n",
       "1                                                 UK  \n",
       "2  7392 Count Circle    92647 Huntington Beach CA US  \n",
       "3         8151 Wagner Road    T6E 4N6 Edmonton AB CA  \n",
       "4                  PO Box 840    48606 Saginaw MI US  "
      ]
     },
     "execution_count": 103,
     "metadata": {},
     "output_type": "execute_result"
    }
   ],
   "source": [
    "custom_add_df=pd.read_excel(file_path,'Customers_Address')\n",
    "custom_add_df.head()  ######### 0 means null lkho upar"
   ]
  },
  {
   "cell_type": "code",
   "execution_count": 108,
   "id": "c16128b3",
   "metadata": {},
   "outputs": [
    {
     "data": {
      "text/plain": [
       "<AxesSubplot:xlabel='Country', ylabel='count'>"
      ]
     },
     "execution_count": 108,
     "metadata": {},
     "output_type": "execute_result"
    },
    {
     "data": {
      "image/png": "[encoded data removed]",
      "text/plain": [
       "<Figure size 720x360 with 1 Axes>"
      ]
     },
     "metadata": {},
     "output_type": "display_data"
    }
   ],
   "source": [
    "sns.countplot(data=custom_add_df,x='Country')"
   ]
  },
  {
   "cell_type": "code",
   "execution_count": 105,
   "id": "6154502e",
   "metadata": {},
   "outputs": [
    {
     "data": {
      "text/plain": [
       "0                16\n",
       "Overland Park     9\n",
       "Sacramento        7\n",
       "Edmonton          6\n",
       "Tulsa             5\n",
       "                 ..\n",
       "Nashville         1\n",
       "Monroe            1\n",
       "South Bend        1\n",
       "Philadelphia      1\n",
       "Morton            1\n",
       "Name: City, Length: 344, dtype: int64"
      ]
     },
     "execution_count": 105,
     "metadata": {},
     "output_type": "execute_result"
    }
   ],
   "source": [
    "custom_add_df['City'].value_counts()"
   ]
  },
  {
   "cell_type": "code",
   "execution_count": 109,
   "id": "aa037310",
   "metadata": {},
   "outputs": [
    {
     "data": {
      "text/html": [
       "<div>\n",
       "<style scoped>\n",
       "    .dataframe tbody tr th:only-of-type {\n",
       "        vertical-align: middle;\n",
       "    }\n",
       "\n",
       "    .dataframe tbody tr th {\n",
       "        vertical-align: top;\n",
       "    }\n",
       "\n",
       "    .dataframe thead th {\n",
       "        text-align: right;\n",
       "    }\n",
       "</style>\n",
       "<table border=\"1\" class=\"dataframe\">\n",
       "  <thead>\n",
       "    <tr style=\"text-align: right;\">\n",
       "      <th></th>\n",
       "      <th>CustKey</th>\n",
       "      <th>DateKey</th>\n",
       "      <th>Discount Amount</th>\n",
       "      <th>Invoice Date</th>\n",
       "      <th>Invoice Number</th>\n",
       "      <th>Item Class</th>\n",
       "      <th>Item Number</th>\n",
       "      <th>Item</th>\n",
       "      <th>Line Number</th>\n",
       "      <th>List Price</th>\n",
       "      <th>Order Number</th>\n",
       "      <th>Promised Delivery Date</th>\n",
       "      <th>Sales Amount</th>\n",
       "      <th>Sales Amount Based on List Price</th>\n",
       "      <th>Sales Cost Amount</th>\n",
       "      <th>Sales Margin Amount</th>\n",
       "      <th>Sales Price</th>\n",
       "      <th>Sales Quantity</th>\n",
       "      <th>Sales Rep</th>\n",
       "      <th>U/M</th>\n",
       "    </tr>\n",
       "  </thead>\n",
       "  <tbody>\n",
       "    <tr>\n",
       "      <th>0</th>\n",
       "      <td>10000481</td>\n",
       "      <td>2017-04-30</td>\n",
       "      <td>-237.91</td>\n",
       "      <td>2017-04-30</td>\n",
       "      <td>100012</td>\n",
       "      <td>0</td>\n",
       "      <td>0</td>\n",
       "      <td>Urban Large Eggs</td>\n",
       "      <td>2000</td>\n",
       "      <td>0.00</td>\n",
       "      <td>200015</td>\n",
       "      <td>2017-04-30</td>\n",
       "      <td>237.91</td>\n",
       "      <td>0.00</td>\n",
       "      <td>0.0</td>\n",
       "      <td>237.91</td>\n",
       "      <td>237.910000</td>\n",
       "      <td>1</td>\n",
       "      <td>184</td>\n",
       "      <td>EA</td>\n",
       "    </tr>\n",
       "    <tr>\n",
       "      <th>1</th>\n",
       "      <td>10002220</td>\n",
       "      <td>2017-07-14</td>\n",
       "      <td>368.79</td>\n",
       "      <td>2017-07-14</td>\n",
       "      <td>100233</td>\n",
       "      <td>P01</td>\n",
       "      <td>20910</td>\n",
       "      <td>Moms Sliced Turkey</td>\n",
       "      <td>1000</td>\n",
       "      <td>824.96</td>\n",
       "      <td>200245</td>\n",
       "      <td>2017-07-14</td>\n",
       "      <td>456.17</td>\n",
       "      <td>824.96</td>\n",
       "      <td>0.0</td>\n",
       "      <td>456.17</td>\n",
       "      <td>456.170000</td>\n",
       "      <td>1</td>\n",
       "      <td>127</td>\n",
       "      <td>EA</td>\n",
       "    </tr>\n",
       "    <tr>\n",
       "      <th>2</th>\n",
       "      <td>10002220</td>\n",
       "      <td>2017-10-17</td>\n",
       "      <td>109.73</td>\n",
       "      <td>2017-10-17</td>\n",
       "      <td>116165</td>\n",
       "      <td>P01</td>\n",
       "      <td>38076</td>\n",
       "      <td>Cutting Edge Foot-Long Hot Dogs</td>\n",
       "      <td>1000</td>\n",
       "      <td>548.66</td>\n",
       "      <td>213157</td>\n",
       "      <td>2017-10-16</td>\n",
       "      <td>438.93</td>\n",
       "      <td>548.66</td>\n",
       "      <td>0.0</td>\n",
       "      <td>438.93</td>\n",
       "      <td>438.930000</td>\n",
       "      <td>1</td>\n",
       "      <td>127</td>\n",
       "      <td>EA</td>\n",
       "    </tr>\n",
       "    <tr>\n",
       "      <th>3</th>\n",
       "      <td>10002489</td>\n",
       "      <td>2017-06-03</td>\n",
       "      <td>-211.75</td>\n",
       "      <td>2017-06-03</td>\n",
       "      <td>100096</td>\n",
       "      <td>0</td>\n",
       "      <td>0</td>\n",
       "      <td>Kiwi Lox</td>\n",
       "      <td>1000</td>\n",
       "      <td>0.00</td>\n",
       "      <td>200107</td>\n",
       "      <td>2017-06-03</td>\n",
       "      <td>211.75</td>\n",
       "      <td>0.00</td>\n",
       "      <td>0.0</td>\n",
       "      <td>211.75</td>\n",
       "      <td>211.750000</td>\n",
       "      <td>1</td>\n",
       "      <td>160</td>\n",
       "      <td>EA</td>\n",
       "    </tr>\n",
       "    <tr>\n",
       "      <th>4</th>\n",
       "      <td>10004516</td>\n",
       "      <td>2017-05-27</td>\n",
       "      <td>96627.94</td>\n",
       "      <td>2017-05-27</td>\n",
       "      <td>103341</td>\n",
       "      <td>P01</td>\n",
       "      <td>60776</td>\n",
       "      <td>High Top Sweet Onion</td>\n",
       "      <td>1000</td>\n",
       "      <td>408.52</td>\n",
       "      <td>203785</td>\n",
       "      <td>2017-05-28</td>\n",
       "      <td>89248.66</td>\n",
       "      <td>185876.60</td>\n",
       "      <td>0.0</td>\n",
       "      <td>89248.66</td>\n",
       "      <td>196.150901</td>\n",
       "      <td>455</td>\n",
       "      <td>124</td>\n",
       "      <td>SE</td>\n",
       "    </tr>\n",
       "  </tbody>\n",
       "</table>\n",
       "</div>"
      ],
      "text/plain": [
       "    CustKey    DateKey  Discount Amount Invoice Date  Invoice Number  \\\n",
       "0  10000481 2017-04-30          -237.91   2017-04-30          100012   \n",
       "1  10002220 2017-07-14           368.79   2017-07-14          100233   \n",
       "2  10002220 2017-10-17           109.73   2017-10-17          116165   \n",
       "3  10002489 2017-06-03          -211.75   2017-06-03          100096   \n",
       "4  10004516 2017-05-27         96627.94   2017-05-27          103341   \n",
       "\n",
       "  Item Class Item Number                             Item  Line Number  \\\n",
       "0          0           0                 Urban Large Eggs         2000   \n",
       "1        P01       20910               Moms Sliced Turkey         1000   \n",
       "2        P01       38076  Cutting Edge Foot-Long Hot Dogs         1000   \n",
       "3          0           0                         Kiwi Lox         1000   \n",
       "4        P01       60776             High Top Sweet Onion         1000   \n",
       "\n",
       "   List Price  Order Number Promised Delivery Date  Sales Amount  \\\n",
       "0        0.00        200015             2017-04-30        237.91   \n",
       "1      824.96        200245             2017-07-14        456.17   \n",
       "2      548.66        213157             2017-10-16        438.93   \n",
       "3        0.00        200107             2017-06-03        211.75   \n",
       "4      408.52        203785             2017-05-28      89248.66   \n",
       "\n",
       "   Sales Amount Based on List Price  Sales Cost Amount  Sales Margin Amount  \\\n",
       "0                              0.00                0.0               237.91   \n",
       "1                            824.96                0.0               456.17   \n",
       "2                            548.66                0.0               438.93   \n",
       "3                              0.00                0.0               211.75   \n",
       "4                         185876.60                0.0             89248.66   \n",
       "\n",
       "   Sales Price  Sales Quantity  Sales Rep U/M  \n",
       "0   237.910000               1        184  EA  \n",
       "1   456.170000               1        127  EA  \n",
       "2   438.930000               1        127  EA  \n",
       "3   211.750000               1        160  EA  \n",
       "4   196.150901             455        124  SE  "
      ]
     },
     "execution_count": 109,
     "metadata": {},
     "output_type": "execute_result"
    }
   ],
   "source": [
    "sales_df=pd.read_excel(file_path,'Sales_Data')\n",
    "sales_df.head()  ######### 0 means null lkho upar"
   ]
  },
  {
   "cell_type": "code",
   "execution_count": 200,
   "id": "677faf49",
   "metadata": {},
   "outputs": [
    {
     "name": "stdout",
     "output_type": "stream",
     "text": [
      "<class 'pandas.core.frame.DataFrame'>\n",
      "RangeIndex: 65282 entries, 0 to 65281\n",
      "Data columns (total 20 columns):\n",
      " #   Column                            Non-Null Count  Dtype         \n",
      "---  ------                            --------------  -----         \n",
      " 0   CustKey                           65282 non-null  int64         \n",
      " 1   DateKey                           65282 non-null  datetime64[ns]\n",
      " 2   Discount Amount                   65282 non-null  float64       \n",
      " 3   Invoice Date                      65282 non-null  datetime64[ns]\n",
      " 4   Invoice Number                    65282 non-null  int64         \n",
      " 5   Item Class                        65282 non-null  object        \n",
      " 6   Item Number                       65282 non-null  object        \n",
      " 7   Item                              65282 non-null  object        \n",
      " 8   Line Number                       65282 non-null  int64         \n",
      " 9   List Price                        65282 non-null  float64       \n",
      " 10  Order Number                      65282 non-null  int64         \n",
      " 11  Promised Delivery Date            65282 non-null  datetime64[ns]\n",
      " 12  Sales Amount                      65282 non-null  float64       \n",
      " 13  Sales Amount Based on List Price  65282 non-null  float64       \n",
      " 14  Sales Cost Amount                 65282 non-null  float64       \n",
      " 15  Sales Margin Amount               65282 non-null  float64       \n",
      " 16  Sales Price                       65282 non-null  float64       \n",
      " 17  Sales Quantity                    65282 non-null  int64         \n",
      " 18  Sales Rep                         65282 non-null  int64         \n",
      " 19  U/M                               65282 non-null  object        \n",
      "dtypes: datetime64[ns](3), float64(7), int64(6), object(4)\n",
      "memory usage: 10.0+ MB\n"
     ]
    }
   ],
   "source": [
    "sales_df.info()"
   ]
  },
  {
   "cell_type": "code",
   "execution_count": 198,
   "id": "115f28c0",
   "metadata": {},
   "outputs": [
    {
     "data": {
      "text/plain": [
       "<AxesSubplot:xlabel='Item'>"
      ]
     },
     "execution_count": 198,
     "metadata": {},
     "output_type": "execute_result"
    },
    {
     "data": {
      "image/png": "[encoded data removed]",
      "text/plain": [
       "<Figure size 1440x504 with 2 Axes>"
      ]
     },
     "metadata": {},
     "output_type": "display_data"
    }
   ],
   "source": [
    "fig,ax=plt.subplots(1,2,figsize=(20,7))\n",
    "sales_df.groupby('Item')['Sales Quantity'].sum().nlargest(10).plot(kind=\"bar\",ax=ax[0])\n",
    "sales_df.groupby('Item')['Sales Quantity'].sum().nsmallest(30).plot(kind=\"bar\",ax=ax[1])"
   ]
  },
  {
   "cell_type": "markdown",
   "id": "50c46309",
   "metadata": {},
   "source": [
    "#### 💡 Insight\n",
    "\n",
    "- Most sold item is Canned Shrimp.\n",
    "- There are few items which are sold just once."
   ]
  },
  {
   "cell_type": "code",
   "execution_count": 207,
   "id": "3cfceaba",
   "metadata": {},
   "outputs": [
    {
     "data": {
      "text/plain": [
       "<AxesSubplot:xlabel='Sales Amount', ylabel='Discount Amount'>"
      ]
     },
     "execution_count": 207,
     "metadata": {},
     "output_type": "execute_result"
    },
    {
     "data": {
      "image/png": "[encoded data removed]",
      "text/plain": [
       "<Figure size 720x360 with 1 Axes>"
      ]
     },
     "metadata": {},
     "output_type": "display_data"
    }
   ],
   "source": [
    "sns.regplot(y=sales_df['Discount Amount'],x=sales_df['Sales Amount'])"
   ]
  },
  {
   "cell_type": "markdown",
   "id": "88673612",
   "metadata": {},
   "source": [
    "#### 💡 Insight\n",
    "\n",
    "- The plot shows that greater the sales amount, the more discount is offered."
   ]
  },
  {
   "cell_type": "code",
   "execution_count": 209,
   "id": "82293e3b",
   "metadata": {},
   "outputs": [
    {
     "data": {
      "text/html": [
       "<div>\n",
       "<style scoped>\n",
       "    .dataframe tbody tr th:only-of-type {\n",
       "        vertical-align: middle;\n",
       "    }\n",
       "\n",
       "    .dataframe tbody tr th {\n",
       "        vertical-align: top;\n",
       "    }\n",
       "\n",
       "    .dataframe thead th {\n",
       "        text-align: right;\n",
       "    }\n",
       "</style>\n",
       "<table border=\"1\" class=\"dataframe\">\n",
       "  <thead>\n",
       "    <tr style=\"text-align: right;\">\n",
       "      <th></th>\n",
       "      <th>CustKey</th>\n",
       "      <th>DateKey</th>\n",
       "      <th>Discount Amount</th>\n",
       "      <th>Invoice Date</th>\n",
       "      <th>Invoice Number</th>\n",
       "      <th>Item Class</th>\n",
       "      <th>Item Number</th>\n",
       "      <th>Item</th>\n",
       "      <th>Line Number</th>\n",
       "      <th>List Price</th>\n",
       "      <th>...</th>\n",
       "      <th>Customer</th>\n",
       "      <th>Customer Number</th>\n",
       "      <th>Customer Type</th>\n",
       "      <th>Division</th>\n",
       "      <th>Line of Business</th>\n",
       "      <th>Phone</th>\n",
       "      <th>Region Code</th>\n",
       "      <th>Regional Sales Mgr</th>\n",
       "      <th>Search Type</th>\n",
       "      <th>Shop Type</th>\n",
       "    </tr>\n",
       "  </thead>\n",
       "  <tbody>\n",
       "    <tr>\n",
       "      <th>0</th>\n",
       "      <td>10000481</td>\n",
       "      <td>2017-04-30</td>\n",
       "      <td>-237.91</td>\n",
       "      <td>2017-04-30</td>\n",
       "      <td>100012</td>\n",
       "      <td>0</td>\n",
       "      <td>0</td>\n",
       "      <td>Urban Large Eggs</td>\n",
       "      <td>2000</td>\n",
       "      <td>0.00</td>\n",
       "      <td>...</td>\n",
       "      <td>Abbott Shop</td>\n",
       "      <td>10000481</td>\n",
       "      <td>G2</td>\n",
       "      <td>Domestic</td>\n",
       "      <td>0</td>\n",
       "      <td>816-455-8733</td>\n",
       "      <td>Central</td>\n",
       "      <td>S5</td>\n",
       "      <td>C</td>\n",
       "      <td>Shop</td>\n",
       "    </tr>\n",
       "    <tr>\n",
       "      <th>1</th>\n",
       "      <td>10002220</td>\n",
       "      <td>2017-07-14</td>\n",
       "      <td>368.79</td>\n",
       "      <td>2017-07-14</td>\n",
       "      <td>100233</td>\n",
       "      <td>P01</td>\n",
       "      <td>20910</td>\n",
       "      <td>Moms Sliced Turkey</td>\n",
       "      <td>1000</td>\n",
       "      <td>824.96</td>\n",
       "      <td>...</td>\n",
       "      <td>ACRON Shop</td>\n",
       "      <td>10002220</td>\n",
       "      <td>G3</td>\n",
       "      <td>International</td>\n",
       "      <td>0</td>\n",
       "      <td>816-455-8733</td>\n",
       "      <td>Canada</td>\n",
       "      <td>S5</td>\n",
       "      <td>C</td>\n",
       "      <td>Shop</td>\n",
       "    </tr>\n",
       "    <tr>\n",
       "      <th>2</th>\n",
       "      <td>10002220</td>\n",
       "      <td>2017-10-17</td>\n",
       "      <td>109.73</td>\n",
       "      <td>2017-10-17</td>\n",
       "      <td>116165</td>\n",
       "      <td>P01</td>\n",
       "      <td>38076</td>\n",
       "      <td>Cutting Edge Foot-Long Hot Dogs</td>\n",
       "      <td>1000</td>\n",
       "      <td>548.66</td>\n",
       "      <td>...</td>\n",
       "      <td>ACRON Shop</td>\n",
       "      <td>10002220</td>\n",
       "      <td>G3</td>\n",
       "      <td>International</td>\n",
       "      <td>0</td>\n",
       "      <td>816-455-8733</td>\n",
       "      <td>Canada</td>\n",
       "      <td>S5</td>\n",
       "      <td>C</td>\n",
       "      <td>Shop</td>\n",
       "    </tr>\n",
       "    <tr>\n",
       "      <th>3</th>\n",
       "      <td>10002489</td>\n",
       "      <td>2017-06-03</td>\n",
       "      <td>-211.75</td>\n",
       "      <td>2017-06-03</td>\n",
       "      <td>100096</td>\n",
       "      <td>0</td>\n",
       "      <td>0</td>\n",
       "      <td>Kiwi Lox</td>\n",
       "      <td>1000</td>\n",
       "      <td>0.00</td>\n",
       "      <td>...</td>\n",
       "      <td>ACT Supermarket</td>\n",
       "      <td>10002489</td>\n",
       "      <td>G2</td>\n",
       "      <td>Domestic</td>\n",
       "      <td>0</td>\n",
       "      <td>816-455-8733</td>\n",
       "      <td>Southern</td>\n",
       "      <td>S16</td>\n",
       "      <td>C</td>\n",
       "      <td>Supermarket</td>\n",
       "    </tr>\n",
       "    <tr>\n",
       "      <th>4</th>\n",
       "      <td>10004516</td>\n",
       "      <td>2017-05-27</td>\n",
       "      <td>96627.94</td>\n",
       "      <td>2017-05-27</td>\n",
       "      <td>103341</td>\n",
       "      <td>P01</td>\n",
       "      <td>60776</td>\n",
       "      <td>High Top Sweet Onion</td>\n",
       "      <td>1000</td>\n",
       "      <td>408.52</td>\n",
       "      <td>...</td>\n",
       "      <td>Besicorp Shop</td>\n",
       "      <td>10004516</td>\n",
       "      <td>G1</td>\n",
       "      <td>International</td>\n",
       "      <td>M1</td>\n",
       "      <td>816-455-8733</td>\n",
       "      <td>International</td>\n",
       "      <td>S19</td>\n",
       "      <td>C</td>\n",
       "      <td>Shop</td>\n",
       "    </tr>\n",
       "  </tbody>\n",
       "</table>\n",
       "<p>5 rows × 33 columns</p>\n",
       "</div>"
      ],
      "text/plain": [
       "    CustKey    DateKey  Discount Amount Invoice Date  Invoice Number  \\\n",
       "0  10000481 2017-04-30          -237.91   2017-04-30          100012   \n",
       "1  10002220 2017-07-14           368.79   2017-07-14          100233   \n",
       "2  10002220 2017-10-17           109.73   2017-10-17          116165   \n",
       "3  10002489 2017-06-03          -211.75   2017-06-03          100096   \n",
       "4  10004516 2017-05-27         96627.94   2017-05-27          103341   \n",
       "\n",
       "  Item Class Item Number                             Item  Line Number  \\\n",
       "0          0           0                 Urban Large Eggs         2000   \n",
       "1        P01       20910               Moms Sliced Turkey         1000   \n",
       "2        P01       38076  Cutting Edge Foot-Long Hot Dogs         1000   \n",
       "3          0           0                         Kiwi Lox         1000   \n",
       "4        P01       60776             High Top Sweet Onion         1000   \n",
       "\n",
       "   List Price  ...         Customer Customer Number  Customer Type  \\\n",
       "0        0.00  ...      Abbott Shop        10000481             G2   \n",
       "1      824.96  ...       ACRON Shop        10002220             G3   \n",
       "2      548.66  ...       ACRON Shop        10002220             G3   \n",
       "3        0.00  ...  ACT Supermarket        10002489             G2   \n",
       "4      408.52  ...    Besicorp Shop        10004516             G1   \n",
       "\n",
       "        Division  Line of Business         Phone    Region Code  \\\n",
       "0       Domestic                 0  816-455-8733        Central   \n",
       "1  International                 0  816-455-8733         Canada   \n",
       "2  International                 0  816-455-8733         Canada   \n",
       "3       Domestic                 0  816-455-8733       Southern   \n",
       "4  International                M1  816-455-8733  International   \n",
       "\n",
       "   Regional Sales Mgr  Search Type    Shop Type  \n",
       "0                  S5            C         Shop  \n",
       "1                  S5            C         Shop  \n",
       "2                  S5            C         Shop  \n",
       "3                 S16            C  Supermarket  \n",
       "4                 S19            C         Shop  \n",
       "\n",
       "[5 rows x 33 columns]"
      ]
     },
     "execution_count": 209,
     "metadata": {},
     "output_type": "execute_result"
    }
   ],
   "source": [
    "sales_customer=sales_df.merge(customers_df,left_on='CustKey',right_on='Customer Number',how='left')\n",
    "sales_customer.head()"
   ]
  },
  {
   "cell_type": "code",
   "execution_count": 210,
   "id": "3fdfb638",
   "metadata": {},
   "outputs": [
    {
     "name": "stdout",
     "output_type": "stream",
     "text": [
      "<class 'pandas.core.frame.DataFrame'>\n",
      "Int64Index: 65812 entries, 0 to 65811\n",
      "Data columns (total 33 columns):\n",
      " #   Column                            Non-Null Count  Dtype         \n",
      "---  ------                            --------------  -----         \n",
      " 0   CustKey                           65812 non-null  int64         \n",
      " 1   DateKey                           65812 non-null  datetime64[ns]\n",
      " 2   Discount Amount                   65812 non-null  float64       \n",
      " 3   Invoice Date                      65812 non-null  datetime64[ns]\n",
      " 4   Invoice Number                    65812 non-null  int64         \n",
      " 5   Item Class                        65812 non-null  object        \n",
      " 6   Item Number                       65812 non-null  object        \n",
      " 7   Item                              65812 non-null  object        \n",
      " 8   Line Number                       65812 non-null  int64         \n",
      " 9   List Price                        65812 non-null  float64       \n",
      " 10  Order Number                      65812 non-null  int64         \n",
      " 11  Promised Delivery Date            65812 non-null  datetime64[ns]\n",
      " 12  Sales Amount                      65812 non-null  float64       \n",
      " 13  Sales Amount Based on List Price  65812 non-null  float64       \n",
      " 14  Sales Cost Amount                 65812 non-null  float64       \n",
      " 15  Sales Margin Amount               65812 non-null  float64       \n",
      " 16  Sales Price                       65812 non-null  float64       \n",
      " 17  Sales Quantity                    65812 non-null  int64         \n",
      " 18  Sales Rep                         65812 non-null  int64         \n",
      " 19  U/M                               65812 non-null  object        \n",
      " 20  Address Number                    65812 non-null  int64         \n",
      " 21  Business Family                   65812 non-null  object        \n",
      " 22  Business Unit                     65812 non-null  int64         \n",
      " 23  Customer                          65812 non-null  object        \n",
      " 24  Customer Number                   65812 non-null  int64         \n",
      " 25  Customer Type                     65812 non-null  object        \n",
      " 26  Division                          65812 non-null  object        \n",
      " 27  Line of Business                  65812 non-null  object        \n",
      " 28  Phone                             65812 non-null  object        \n",
      " 29  Region Code                       65812 non-null  object        \n",
      " 30  Regional Sales Mgr                65812 non-null  object        \n",
      " 31  Search Type                       65812 non-null  object        \n",
      " 32  Shop Type                         59339 non-null  object        \n",
      "dtypes: datetime64[ns](3), float64(7), int64(9), object(14)\n",
      "memory usage: 17.1+ MB\n"
     ]
    }
   ],
   "source": [
    "sales_customer.info()"
   ]
  },
  {
   "cell_type": "code",
   "execution_count": 254,
   "id": "9ef76743",
   "metadata": {},
   "outputs": [
    {
     "name": "stdout",
     "output_type": "stream",
     "text": [
      "Order date range in years: \n"
     ]
    },
    {
     "data": {
      "text/plain": [
       "2.9952702656454275"
      ]
     },
     "execution_count": 254,
     "metadata": {},
     "output_type": "execute_result"
    }
   ],
   "source": [
    "print('Order date range in years: ')\n",
    "(sales_customer['DateKey'].max()-sales_customer['DateKey'].min())/np.timedelta64(1,'Y')"
   ]
  },
  {
   "cell_type": "code",
   "execution_count": 287,
   "id": "db4aaacc",
   "metadata": {},
   "outputs": [
    {
     "data": {
      "text/html": [
       "<div>\n",
       "<style scoped>\n",
       "    .dataframe tbody tr th:only-of-type {\n",
       "        vertical-align: middle;\n",
       "    }\n",
       "\n",
       "    .dataframe tbody tr th {\n",
       "        vertical-align: top;\n",
       "    }\n",
       "\n",
       "    .dataframe thead th {\n",
       "        text-align: right;\n",
       "    }\n",
       "</style>\n",
       "<table border=\"1\" class=\"dataframe\">\n",
       "  <thead>\n",
       "    <tr style=\"text-align: right;\">\n",
       "      <th></th>\n",
       "      <th>CustKey</th>\n",
       "      <th>DateKey</th>\n",
       "      <th>Discount Amount</th>\n",
       "      <th>Invoice Date</th>\n",
       "      <th>Invoice Number</th>\n",
       "      <th>Item Class</th>\n",
       "      <th>Item Number</th>\n",
       "      <th>Item</th>\n",
       "      <th>Line Number</th>\n",
       "      <th>List Price</th>\n",
       "      <th>Order Number</th>\n",
       "      <th>Promised Delivery Date</th>\n",
       "      <th>Sales Amount</th>\n",
       "      <th>Sales Amount Based on List Price</th>\n",
       "      <th>Sales Cost Amount</th>\n",
       "      <th>Sales Margin Amount</th>\n",
       "      <th>Sales Price</th>\n",
       "      <th>Sales Quantity</th>\n",
       "      <th>Sales Rep</th>\n",
       "      <th>U/M</th>\n",
       "    </tr>\n",
       "  </thead>\n",
       "  <tbody>\n",
       "    <tr>\n",
       "      <th>0</th>\n",
       "      <td>10000481</td>\n",
       "      <td>2017-04-30</td>\n",
       "      <td>-237.91</td>\n",
       "      <td>2017-04-30</td>\n",
       "      <td>100012</td>\n",
       "      <td>0</td>\n",
       "      <td>0</td>\n",
       "      <td>Urban Large Eggs</td>\n",
       "      <td>2000</td>\n",
       "      <td>0.00</td>\n",
       "      <td>200015</td>\n",
       "      <td>2017-04-30</td>\n",
       "      <td>237.91</td>\n",
       "      <td>0.0</td>\n",
       "      <td>0.00</td>\n",
       "      <td>237.91</td>\n",
       "      <td>237.910</td>\n",
       "      <td>1</td>\n",
       "      <td>184</td>\n",
       "      <td>EA</td>\n",
       "    </tr>\n",
       "    <tr>\n",
       "      <th>50760</th>\n",
       "      <td>10024006</td>\n",
       "      <td>2017-11-18</td>\n",
       "      <td>270.68</td>\n",
       "      <td>2017-11-18</td>\n",
       "      <td>118879</td>\n",
       "      <td>P01</td>\n",
       "      <td>61861</td>\n",
       "      <td>Urban Large Eggs</td>\n",
       "      <td>15000</td>\n",
       "      <td>122.68</td>\n",
       "      <td>212177</td>\n",
       "      <td>2017-11-18</td>\n",
       "      <td>342.72</td>\n",
       "      <td>613.4</td>\n",
       "      <td>124.02</td>\n",
       "      <td>218.70</td>\n",
       "      <td>68.544</td>\n",
       "      <td>5</td>\n",
       "      <td>157</td>\n",
       "      <td>EA</td>\n",
       "    </tr>\n",
       "    <tr>\n",
       "      <th>50761</th>\n",
       "      <td>10024006</td>\n",
       "      <td>2017-11-18</td>\n",
       "      <td>270.68</td>\n",
       "      <td>2017-11-18</td>\n",
       "      <td>118898</td>\n",
       "      <td>P01</td>\n",
       "      <td>61861</td>\n",
       "      <td>Urban Large Eggs</td>\n",
       "      <td>9000</td>\n",
       "      <td>122.68</td>\n",
       "      <td>214964</td>\n",
       "      <td>2017-11-18</td>\n",
       "      <td>342.72</td>\n",
       "      <td>613.4</td>\n",
       "      <td>124.02</td>\n",
       "      <td>218.70</td>\n",
       "      <td>68.544</td>\n",
       "      <td>5</td>\n",
       "      <td>157</td>\n",
       "      <td>EA</td>\n",
       "    </tr>\n",
       "    <tr>\n",
       "      <th>52687</th>\n",
       "      <td>10011052</td>\n",
       "      <td>2019-11-30</td>\n",
       "      <td>284.39</td>\n",
       "      <td>2019-11-30</td>\n",
       "      <td>318898</td>\n",
       "      <td>P01</td>\n",
       "      <td>61861</td>\n",
       "      <td>Urban Large Eggs</td>\n",
       "      <td>9000</td>\n",
       "      <td>122.68</td>\n",
       "      <td>114964</td>\n",
       "      <td>2019-11-30</td>\n",
       "      <td>329.01</td>\n",
       "      <td>613.4</td>\n",
       "      <td>124.02</td>\n",
       "      <td>204.99</td>\n",
       "      <td>65.802</td>\n",
       "      <td>5</td>\n",
       "      <td>157</td>\n",
       "      <td>EA</td>\n",
       "    </tr>\n",
       "    <tr>\n",
       "      <th>52688</th>\n",
       "      <td>10011052</td>\n",
       "      <td>2019-11-30</td>\n",
       "      <td>284.39</td>\n",
       "      <td>2019-11-30</td>\n",
       "      <td>318879</td>\n",
       "      <td>P01</td>\n",
       "      <td>61861</td>\n",
       "      <td>Urban Large Eggs</td>\n",
       "      <td>15000</td>\n",
       "      <td>122.68</td>\n",
       "      <td>112177</td>\n",
       "      <td>2019-11-30</td>\n",
       "      <td>329.01</td>\n",
       "      <td>613.4</td>\n",
       "      <td>124.02</td>\n",
       "      <td>204.99</td>\n",
       "      <td>65.802</td>\n",
       "      <td>5</td>\n",
       "      <td>157</td>\n",
       "      <td>EA</td>\n",
       "    </tr>\n",
       "  </tbody>\n",
       "</table>\n",
       "</div>"
      ],
      "text/plain": [
       "        CustKey    DateKey  Discount Amount Invoice Date  Invoice Number  \\\n",
       "0      10000481 2017-04-30          -237.91   2017-04-30          100012   \n",
       "50760  10024006 2017-11-18           270.68   2017-11-18          118879   \n",
       "50761  10024006 2017-11-18           270.68   2017-11-18          118898   \n",
       "52687  10011052 2019-11-30           284.39   2019-11-30          318898   \n",
       "52688  10011052 2019-11-30           284.39   2019-11-30          318879   \n",
       "\n",
       "      Item Class Item Number              Item  Line Number  List Price  \\\n",
       "0              0           0  Urban Large Eggs         2000        0.00   \n",
       "50760        P01       61861  Urban Large Eggs        15000      122.68   \n",
       "50761        P01       61861  Urban Large Eggs         9000      122.68   \n",
       "52687        P01       61861  Urban Large Eggs         9000      122.68   \n",
       "52688        P01       61861  Urban Large Eggs        15000      122.68   \n",
       "\n",
       "       Order Number Promised Delivery Date  Sales Amount  \\\n",
       "0            200015             2017-04-30        237.91   \n",
       "50760        212177             2017-11-18        342.72   \n",
       "50761        214964             2017-11-18        342.72   \n",
       "52687        114964             2019-11-30        329.01   \n",
       "52688        112177             2019-11-30        329.01   \n",
       "\n",
       "       Sales Amount Based on List Price  Sales Cost Amount  \\\n",
       "0                                   0.0               0.00   \n",
       "50760                             613.4             124.02   \n",
       "50761                             613.4             124.02   \n",
       "52687                             613.4             124.02   \n",
       "52688                             613.4             124.02   \n",
       "\n",
       "       Sales Margin Amount  Sales Price  Sales Quantity  Sales Rep U/M  \n",
       "0                   237.91      237.910               1        184  EA  \n",
       "50760               218.70       68.544               5        157  EA  \n",
       "50761               218.70       68.544               5        157  EA  \n",
       "52687               204.99       65.802               5        157  EA  \n",
       "52688               204.99       65.802               5        157  EA  "
      ]
     },
     "execution_count": 287,
     "metadata": {},
     "output_type": "execute_result"
    }
   ],
   "source": [
    "def item_info(item):\n",
    " \n",
    "    return sales_df[sales_df['Item']==item]\n",
    "    \n",
    "\n",
    "item_info(\"Urban Large Eggs\")\n",
    "    "
   ]
  },
  {
   "cell_type": "code",
   "execution_count": 256,
   "id": "94687159",
   "metadata": {},
   "outputs": [
    {
     "data": {
      "text/plain": [
       "<AxesSubplot:xlabel='Region Code'>"
      ]
     },
     "execution_count": 256,
     "metadata": {},
     "output_type": "execute_result"
    },
    {
     "data": {
      "image/png": "[encoded data removed]",
      "text/plain": [
       "<Figure size 720x360 with 1 Axes>"
      ]
     },
     "metadata": {},
     "output_type": "display_data"
    }
   ],
   "source": [
    "sales_customer.groupby('Region Code')['Sales Quantity'].sum().nlargest(10).plot(kind='bar')"
   ]
  },
  {
   "cell_type": "markdown",
   "id": "91b4b46f",
   "metadata": {},
   "source": [
    "#### 💡 Insight\n",
    "\n",
    "- Most sales done in International region."
   ]
  },
  {
   "cell_type": "code",
   "execution_count": 290,
   "id": "6efd135b",
   "metadata": {},
   "outputs": [
    {
     "data": {
      "text/plain": [
       "<AxesSubplot:xlabel='Customer'>"
      ]
     },
     "execution_count": 290,
     "metadata": {},
     "output_type": "execute_result"
    },
    {
     "data": {
      "image/png": "[encoded data removed]",
      "text/plain": [
       "<Figure size 720x360 with 1 Axes>"
      ]
     },
     "metadata": {},
     "output_type": "display_data"
    }
   ],
   "source": [
    "sales_customer.groupby('Customer')['Sales Quantity'].sum().nlargest(10).plot(kind='bar')"
   ]
  },
  {
   "cell_type": "markdown",
   "id": "97179f53",
   "metadata": {},
   "source": [
    "#### 💡 Insight\n",
    "\n",
    "- Talarians and PageWave Megastore alone have been sold more than 70,000 of items. "
   ]
  },
  {
   "cell_type": "code",
   "execution_count": 295,
   "id": "f283c98c",
   "metadata": {},
   "outputs": [
    {
     "data": {
      "text/plain": [
       "<AxesSubplot:xlabel='DateKey'>"
      ]
     },
     "execution_count": 295,
     "metadata": {},
     "output_type": "execute_result"
    },
    {
     "data": {
      "image/png": "[encoded data removed]",
      "text/plain": [
       "<Figure size 720x360 with 1 Axes>"
      ]
     },
     "metadata": {},
     "output_type": "display_data"
    }
   ],
   "source": [
    "sales_customer.groupby(sales_customer.DateKey.dt.year)['Sales Quantity'].sum().plot(kind='bar')"
   ]
  },
  {
   "cell_type": "markdown",
   "id": "705c8fff",
   "metadata": {},
   "source": [
    "#### 💡 Insight\n",
    "\n",
    "- 2018 was the year with lowest sales."
   ]
  },
  {
   "cell_type": "code",
   "execution_count": 297,
   "id": "20413285",
   "metadata": {},
   "outputs": [
    {
     "data": {
      "text/plain": [
       "<AxesSubplot:xlabel='DateKey'>"
      ]
     },
     "execution_count": 297,
     "metadata": {},
     "output_type": "execute_result"
    },
    {
     "data": {
      "image/png": "[encoded data removed]",
      "text/plain": [
       "<Figure size 720x360 with 1 Axes>"
      ]
     },
     "metadata": {},
     "output_type": "display_data"
    }
   ],
   "source": [
    "sales_customer.groupby(sales_customer.DateKey.dt.month)['Sales Quantity'].sum().plot(kind='line')"
   ]
  },
  {
   "cell_type": "markdown",
   "id": "c53aa0a7",
   "metadata": {},
   "source": [
    "#### 💡 Insight\n",
    "\n",
    "- The first 3 months of every year have record high sales.\n",
    "- Why this happens, will figure out in Tableau report."
   ]
  },
  {
   "cell_type": "code",
   "execution_count": null,
   "id": "f2186334",
   "metadata": {},
   "outputs": [],
   "source": []
  },
  {
   "cell_type": "code",
   "execution_count": null,
   "id": "a9ed152d",
   "metadata": {},
   "outputs": [],
   "source": []
  }
 ],
 "metadata": {
  "kernelspec": {
   "display_name": "Python 3 (ipykernel)",
   "language": "python",
   "name": "python3"
  },
  "language_info": {
   "codemirror_mode": {
    "name": "ipython",
    "version": 3
   },
   "file_extension": ".py",
   "mimetype": "text/x-python",
   "name": "python",
   "nbconvert_exporter": "python",
   "pygments_lexer": "ipython3",
   "version": "3.9.12"
  }
 },
 "nbformat": 4,
 "nbformat_minor": 5
}
